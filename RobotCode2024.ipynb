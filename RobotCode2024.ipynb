{
  "nbformat": 4,
  "nbformat_minor": 0,
  "metadata": {
    "colab": {
      "provenance": []
    },
    "kernelspec": {
      "name": "python3",
      "display_name": "Python 3"
    },
    "language_info": {
      "name": "python"
    }
  },
  "cells": [
    {
      "cell_type": "code",
      "execution_count": null,
      "metadata": {
        "id": "fwdLMeB8KVsD",
        "colab": {
          "base_uri": "https://localhost:8080/",
          "height": 399
        },
        "collapsed": true,
        "outputId": "29474647-d558-44e2-8197-e876c2d605d1"
      },
      "outputs": [
        {
          "output_type": "error",
          "ename": "ModuleNotFoundError",
          "evalue": "No module named 'picarx'",
          "traceback": [
            "\u001b[0;31m---------------------------------------------------------------------------\u001b[0m",
            "\u001b[0;31mModuleNotFoundError\u001b[0m                       Traceback (most recent call last)",
            "\u001b[0;32m<ipython-input-1-8ea518f57a97>\u001b[0m in \u001b[0;36m<cell line: 1>\u001b[0;34m()\u001b[0m\n\u001b[0;32m----> 1\u001b[0;31m \u001b[0;32mfrom\u001b[0m \u001b[0mpicarx\u001b[0m \u001b[0;32mimport\u001b[0m \u001b[0mPicarx\u001b[0m\u001b[0;34m\u001b[0m\u001b[0;34m\u001b[0m\u001b[0m\n\u001b[0m\u001b[1;32m      2\u001b[0m \u001b[0;32mfrom\u001b[0m \u001b[0mrobot_hat\u001b[0m \u001b[0;32mimport\u001b[0m \u001b[0mTTS\u001b[0m\u001b[0;34m\u001b[0m\u001b[0;34m\u001b[0m\u001b[0m\n\u001b[1;32m      3\u001b[0m \u001b[0;32mimport\u001b[0m \u001b[0mtime\u001b[0m\u001b[0;34m\u001b[0m\u001b[0;34m\u001b[0m\u001b[0m\n\u001b[1;32m      4\u001b[0m \u001b[0;34m\u001b[0m\u001b[0m\n\u001b[1;32m      5\u001b[0m \u001b[0mPOWER\u001b[0m \u001b[0;34m=\u001b[0m \u001b[0;36m25\u001b[0m\u001b[0;34m\u001b[0m\u001b[0;34m\u001b[0m\u001b[0m\n",
            "\u001b[0;31mModuleNotFoundError\u001b[0m: No module named 'picarx'",
            "",
            "\u001b[0;31m---------------------------------------------------------------------------\u001b[0;32m\nNOTE: If your import is failing due to a missing package, you can\nmanually install dependencies using either !pip or !apt.\n\nTo view examples of installing some common dependencies, click the\n\"Open Examples\" button below.\n\u001b[0;31m---------------------------------------------------------------------------\u001b[0m\n"
          ],
          "errorDetails": {
            "actions": [
              {
                "action": "open_url",
                "actionText": "Open Examples",
                "url": "/notebooks/snippets/importing_libraries.ipynb"
              }
            ]
          }
        }
      ],
      "source": [
        "from picarx import Picarx #Import PiCar-X library\n",
        "from robot_hat import TTS # Import Text-to-Speech(TTS) library\n",
        "import time # Import time module for delays\n",
        "\n",
        "# Marco Polo Object Detection Code\n",
        "\n",
        "POWER = 20 #Power level for movement\n",
        "SafeDistance = 25   # Safe distance threshold( > 25 safe)\n",
        "DangerDistance= 17 # Dange distance threshold ()> 17 && < 20 turn around,\n",
        "                    # < 17 backward)\n",
        "tts = TTS() #Initalize text to speech engine\n",
        "tts.lang(\"en-US\") # Set language for TTS engine to English American\n",
        "\n",
        "def main():\n",
        "    try:\n",
        "        px = Picarx() #Initalize PiCar-X\n",
        "        # px = Picarx(ultrasonic_pins=['D2','D3']) # tring, echo\n",
        "\n",
        "        #Main control loop\n",
        "        while True:\n",
        "            distance = round(px.ultrasonic.read(), 2)# Read distance from ultrasonic sensor\n",
        "            print(\"distance: \",distance)\n",
        "\n",
        "            if distance >= SafeDistance:\n",
        "                px.set_dir_servo_angle(0) # Set servo angle straight ahead\n",
        "                px.forward(POWER) # MOve forward at power level\n",
        "\n",
        "            elif distance >= DangerDistance:\n",
        "                px.set_dir_servo_angle(30) # Set servo angle to turn right\n",
        "                px.forward(POWER) # MOve forard at Power level\n",
        "                tts.say(\"danger\") # Speak \"danger\"\n",
        "                time.sleep(0.1) # Wait briefly\n",
        "\n",
        "            else:\n",
        "                px.set_dir_servo_angle(-30) #Set servo angle to turn left\n",
        "                px.backward(POWER) # MOve backward at POWER level\n",
        "                tts.say(\"danger\") # Speak \"danger\"\n",
        "                time.sleep(0.5) # Wait longer for safety\n",
        "\n",
        "    finally:\n",
        "        px.forward(0) # Stop the PiCar-X when exiting\n",
        "\n",
        "#Entry point of the script\n",
        "if __name__ == \"__main__\":\n",
        "    main() # call the main function to start the program\n",
        "\n"
      ]
    },
    {
      "cell_type": "code",
      "source": [
        "\"from picarx import Picarx #importing PiCar-X library\n",
        "from time import sleep # importing sleep functions for delays\n",
        "from vilib import Vilib # importing computer vision library\n",
        "\n",
        "#Current Code for Color Tracking with Red, Look at event 1 for info\n",
        "\n",
        "px = Picarx() #initalize PiCar-X instance\n",
        "\n",
        "#Utility function to clamp a number within a specific range\n",
        "def clamp_number(num,a,b):\n",
        "  return max(min(num, max(a, b)), min(a, b))\n",
        "\n",
        "#Main function to control the robot's behavior\n",
        "def main():\n",
        "    #Start camera and initialize display\n",
        "    Vilib.camera_start()\n",
        "    Vilib.display()\n",
        "\n",
        "    #Set color detection to track \"red \" objects\n",
        "    Vilib.color_detect(\"red\")\n",
        "\n",
        "    #Initaize settings\n",
        "    speed = 50 # Movement speed\n",
        "    dir_angle=0 # Direction angle for servo motor\n",
        "    x_angle =0 # Pan angle for camera\n",
        "    y_angle =0 # Tilt angle for camera\n",
        "\n",
        "    # Main control loop\n",
        "    while True:\n",
        "      # Check if there is an object of the detected color\n",
        "        if Vilib.detect_obj_parameter['color_n']!=0:\n",
        "          # Get coordinates of the detected object\n",
        "            coordinate_x = Vilib.detect_obj_parameter['color_x']\n",
        "            coordinate_y = Vilib.detect_obj_parameter['color_y']\n",
        "\n",
        "            # Adjust pan angle based on object's x coordinate\n",
        "            x_angle +=(coordinate_x*10/640)-5\n",
        "            x_angle = clamp_number(x_angle,-35,35) # Clamp angle within -35 to 35 degrees\n",
        "            px.set_cam_pan_angle(x_angle) # Set camera pan angle\n",
        "            # Adjust tilt angle based on object's y coordinate\n",
        "            y_angle -=(coordinate_y*10/480)-5\n",
        "            y_angle = clamp_number(y_angle,-35,35) # Clamp angle within -35 to 35 degrees\n",
        "            px.set_cam_tilt_angle(y_angle) # Set camera tilt angle\n",
        "\n",
        "            # The movement direction will change slower than the pan/tilt direction\n",
        "            # change to avoid confusion when the picture changes at high speed.\n",
        "            if dir_angle > x_angle:\n",
        "                dir_angle -= 1\n",
        "            elif dir_angle < x_angle:\n",
        "                dir_angle += 1\n",
        "            px.set_dir_servo_angle(x_angle) # Set direction servo angle\n",
        "            px.forward(speed) # Move forward at specified speed\n",
        "            sleep(0.05) # Wait for a short time\n",
        "\n",
        "        else :\n",
        "            px.forward(0) # stop moving if no object of the specified color is detected\n",
        "            sleep(0.05) # Wait for a short time\n",
        "\n",
        "# Entry point of the script\n",
        "if __name__ == \"__main__\":\n",
        "    try:\n",
        "       main() # call the main fucntion to start the program\n",
        "\n",
        "\n",
        "    finally:\n",
        "        px.stop() # Stop the PiCar-X\n",
        "        print(\"stop and exit\") # Print message indicating program\n",
        "        sleep(0.1) # Wait briefly before exiting"
      ],
      "metadata": {
        "id": "FfRhPFUw9bVS"
      },
      "execution_count": null,
      "outputs": []
    },
    {
      "cell_type": "code",
      "source": [
        "from picarx import Picarx\n",
        "import time\n",
        "# Moving For Sprints and Mile\n",
        "\n",
        "if __name__ == \"__main__\":\n",
        "    try:\n",
        "        # init picarx\n",
        "        px = Picarx()\n",
        "\n",
        "        # test motor\n",
        "        px.forward(10000)\n",
        "        time.sleep(2)\n",
        "        # test direction servo\n",
        "\n",
        "        px.stop()\n",
        "        time.sleep(1)\n",
        "        # test cam servos\n",
        "\n",
        "    finally:\n",
        "        px.stop()\n",
        "        time.sleep(0.2)\n"
      ],
      "metadata": {
        "id": "dIygaR9B9iei"
      },
      "execution_count": null,
      "outputs": []
    },
    {
      "cell_type": "markdown",
      "source": [],
      "metadata": {
        "id": "ZSSJn2uT8zqQ"
      }
    }
  ]
}